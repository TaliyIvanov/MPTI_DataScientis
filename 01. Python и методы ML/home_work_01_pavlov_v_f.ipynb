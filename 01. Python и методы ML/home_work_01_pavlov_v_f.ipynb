{
 "cells": [
  {
   "cell_type": "markdown",
   "metadata": {
    "toc": true
   },
   "source": [
    "<h1>Table of Contents<span class=\"tocSkip\"></span></h1>\n",
    "<div class=\"toc\"><ul class=\"toc-item\"><li><span><a href=\"#Домашнее-задание-1\" data-toc-modified-id=\"Домашнее-задание-1-1\"><span class=\"toc-item-num\">1&nbsp;&nbsp;</span>Домашнее задание 1</a></span><ul class=\"toc-item\"><li><span><a href=\"#Задача-1.-Большая-из-двух-строк\" data-toc-modified-id=\"Задача-1.-Большая-из-двух-строк-1.1\"><span class=\"toc-item-num\">1.1&nbsp;&nbsp;</span>Задача 1. Большая из двух строк</a></span><ul class=\"toc-item\"><li><span><a href=\"#Пример\" data-toc-modified-id=\"Пример-1.1.1\"><span class=\"toc-item-num\">1.1.1&nbsp;&nbsp;</span>Пример</a></span></li></ul></li><li><span><a href=\"#Задача-2.-Встречающиеся-символы\" data-toc-modified-id=\"Задача-2.-Встречающиеся-символы-1.2\"><span class=\"toc-item-num\">1.2&nbsp;&nbsp;</span>Задача 2. Встречающиеся символы</a></span><ul class=\"toc-item\"><li><span><a href=\"#Пример\" data-toc-modified-id=\"Пример-1.2.1\"><span class=\"toc-item-num\">1.2.1&nbsp;&nbsp;</span>Пример</a></span></li></ul></li><li><span><a href=\"#Задача-3.-100-раз-подряд-в-квадрате\" data-toc-modified-id=\"Задача-3.-100-раз-подряд-в-квадрате-1.3\"><span class=\"toc-item-num\">1.3&nbsp;&nbsp;</span>Задача 3. 100 раз подряд в квадрате</a></span><ul class=\"toc-item\"><li><span><a href=\"#Пример\" data-toc-modified-id=\"Пример-1.3.1\"><span class=\"toc-item-num\">1.3.1&nbsp;&nbsp;</span>Пример</a></span></li></ul></li><li><span><a href=\"#Задача-4.-Проверка-палиндрома\" data-toc-modified-id=\"Задача-4.-Проверка-палиндрома-1.4\"><span class=\"toc-item-num\">1.4&nbsp;&nbsp;</span>Задача 4. Проверка палиндрома</a></span><ul class=\"toc-item\"><li><span><a href=\"#Пример\" data-toc-modified-id=\"Пример-1.4.1\"><span class=\"toc-item-num\">1.4.1&nbsp;&nbsp;</span>Пример</a></span></li></ul></li><li><span><a href=\"#Задача-5.-Преобразования-времени\" data-toc-modified-id=\"Задача-5.-Преобразования-времени-1.5\"><span class=\"toc-item-num\">1.5&nbsp;&nbsp;</span>Задача 5. Преобразования времени</a></span><ul class=\"toc-item\"><li><span><a href=\"#Пример\" data-toc-modified-id=\"Пример-1.5.1\"><span class=\"toc-item-num\">1.5.1&nbsp;&nbsp;</span>Пример</a></span></li></ul></li><li><span><a href=\"#Задача-6.-Расширение-файла\" data-toc-modified-id=\"Задача-6.-Расширение-файла-1.6\"><span class=\"toc-item-num\">1.6&nbsp;&nbsp;</span>Задача 6. Расширение файла</a></span><ul class=\"toc-item\"><li><span><a href=\"#Пример\" data-toc-modified-id=\"Пример-1.6.1\"><span class=\"toc-item-num\">1.6.1&nbsp;&nbsp;</span>Пример</a></span></li></ul></li><li><span><a href=\"#Задача-7.-Обмен-значениями\" data-toc-modified-id=\"Задача-7.-Обмен-значениями-1.7\"><span class=\"toc-item-num\">1.7&nbsp;&nbsp;</span>Задача 7. Обмен значениями</a></span><ul class=\"toc-item\"><li><span><a href=\"#Пример\" data-toc-modified-id=\"Пример-1.7.1\"><span class=\"toc-item-num\">1.7.1&nbsp;&nbsp;</span>Пример</a></span></li></ul></li><li><span><a href=\"#Задача-8.-Уникальное-содержимое\" data-toc-modified-id=\"Задача-8.-Уникальное-содержимое-1.8\"><span class=\"toc-item-num\">1.8&nbsp;&nbsp;</span>Задача 8. Уникальное содержимое</a></span><ul class=\"toc-item\"><li><span><a href=\"#Пример\" data-toc-modified-id=\"Пример-1.8.1\"><span class=\"toc-item-num\">1.8.1&nbsp;&nbsp;</span>Пример</a></span></li></ul></li><li><span><a href=\"#Задача-9.-Простой-анализ-рынка\" data-toc-modified-id=\"Задача-9.-Простой-анализ-рынка-1.9\"><span class=\"toc-item-num\">1.9&nbsp;&nbsp;</span>Задача 9. Простой анализ рынка</a></span><ul class=\"toc-item\"><li><span><a href=\"#Пример\" data-toc-modified-id=\"Пример-1.9.1\"><span class=\"toc-item-num\">1.9.1&nbsp;&nbsp;</span>Пример</a></span></li></ul></li><li><span><a href=\"#Задача-10.-Частичный-разворот\" data-toc-modified-id=\"Задача-10.-Частичный-разворот-1.10\"><span class=\"toc-item-num\">1.10&nbsp;&nbsp;</span>Задача 10. Частичный разворот</a></span><ul class=\"toc-item\"><li><span><a href=\"#Пример\" data-toc-modified-id=\"Пример-1.10.1\"><span class=\"toc-item-num\">1.10.1&nbsp;&nbsp;</span>Пример</a></span></li></ul></li></ul></li></ul></div>"
   ]
  },
  {
   "cell_type": "markdown",
   "metadata": {
    "id": "EVbqAmZF1ckK"
   },
   "source": [
    "# Домашнее задание 1"
   ]
  },
  {
   "cell_type": "markdown",
   "metadata": {
    "id": "QMlUzOq0oAI5"
   },
   "source": [
    "## Задача 1. Большая из двух строк\n",
    "\n",
    "Вы получаете на вход две строки. Нужно вывести только ту, что является лексикографически больше."
   ]
  },
  {
   "cell_type": "markdown",
   "metadata": {
    "id": "LqTAjBrNzVw9"
   },
   "source": [
    "### Пример\n",
    "\n",
    "**Ввод:**\n",
    "\n",
    "```\n",
    "string_b\n",
    "string_a\n",
    "```\n",
    "\n",
    "**Вывод:**\n",
    "\n",
    "```\n",
    "string_b\n",
    "```"
   ]
  },
  {
   "cell_type": "code",
   "execution_count": 6,
   "metadata": {
    "id": "s8S2idAn-C8R"
   },
   "outputs": [
    {
     "name": "stdout",
     "output_type": "stream",
     "text": [
      "Введите строку 1: string_b\n",
      "Введите строку 2: string_a\n"
     ]
    }
   ],
   "source": [
    "a = input(\"Введите строку 1: \")\n",
    "b = input(\"Введите строку 2: \")"
   ]
  },
  {
   "cell_type": "code",
   "execution_count": 11,
   "metadata": {
    "id": "rwJIfKOdnfGW"
   },
   "outputs": [
    {
     "name": "stdout",
     "output_type": "stream",
     "text": [
      "string_b\n"
     ]
    }
   ],
   "source": [
    "if a > b:\n",
    "    print(a)\n",
    "elif b > a:\n",
    "    print(b)\n",
    "else:\n",
    "    print('Строки Лексикографически равны')"
   ]
  },
  {
   "cell_type": "markdown",
   "metadata": {
    "id": "0PxuwdtZoB9-"
   },
   "source": [
    "## Задача 2. Встречающиеся символы\n",
    "\n",
    "Вы получаете на вход две строки. Нужно вывести все уникальные символы, которые встречаются хотя бы в одной из этих строк."
   ]
  },
  {
   "cell_type": "markdown",
   "metadata": {
    "id": "euYQ05rO0Be9"
   },
   "source": [
    "### Пример\n",
    "\n",
    "**Ввод:**\n",
    "\n",
    "```\n",
    "aabccdee\n",
    "ddeffggaaz\n",
    "```\n",
    "\n",
    "**Вывод:**\n",
    "\n",
    "```\n",
    "abcdefgz\n",
    "```"
   ]
  },
  {
   "cell_type": "code",
   "execution_count": 56,
   "metadata": {
    "id": "hScgKDMq-bx4"
   },
   "outputs": [
    {
     "name": "stdout",
     "output_type": "stream",
     "text": [
      "Введите строку 1: aabccdee\n",
      "Введите строку 2: ddeffggaaz\n"
     ]
    }
   ],
   "source": [
    "a = input(\"Введите строку 1: \")\n",
    "b = input(\"Введите строку 2: \")"
   ]
  },
  {
   "cell_type": "code",
   "execution_count": 76,
   "metadata": {},
   "outputs": [
    {
     "name": "stdout",
     "output_type": "stream",
     "text": [
      "bcgazdfe\n"
     ]
    }
   ],
   "source": [
    "s_set = set(a + b)\n",
    "print(*s_set, sep='')"
   ]
  },
  {
   "cell_type": "markdown",
   "metadata": {},
   "source": [
    "Получил уникальные символы через множество.\n",
    "\n",
    "Не знаю, важно ли, чтобы у нас символы выводились именно в порядке abcdefgz?"
   ]
  },
  {
   "cell_type": "markdown",
   "metadata": {
    "id": "D-7vU_xMoGXW"
   },
   "source": [
    "## Задача 3. 100 раз подряд в квадрате\n",
    "\n",
    "Вы получаете на вход число `n`. Нужно записать его 100 раз подряд, а затем вывести квадрат этого числа.\n",
    "\n",
    "$$n\\to\\underbrace{nnn\\ldots n}_{100\\text{ раз}}\\to(\\underbrace{nnn\\ldots n}_{100\\text{ раз}})^2$$"
   ]
  },
  {
   "cell_type": "markdown",
   "metadata": {
    "id": "Po1h0VLB0LiQ"
   },
   "source": [
    "### Пример\n",
    "\n",
    "**Ввод:**\n",
    "\n",
    "```\n",
    "1\n",
    "```\n",
    "\n",
    "**Вывод:**\n",
    "\n",
    "```\n",
    "1234567901234567901234567901234567901234567901234567901234567901234567901234567901234567901234567900987654320987654320987654320987654320987654320987654320987654320987654320987654320987654320987654321\n",
    "```"
   ]
  },
  {
   "cell_type": "code",
   "execution_count": 2,
   "metadata": {
    "id": "VDcFSgAtS_kD"
   },
   "outputs": [
    {
     "name": "stdout",
     "output_type": "stream",
     "text": [
      "Введите число n: 1\n"
     ]
    }
   ],
   "source": [
    "n = int(input('Введите число n: '))"
   ]
  },
  {
   "cell_type": "code",
   "execution_count": 6,
   "metadata": {
    "id": "ORxlMF5XoHaf"
   },
   "outputs": [
    {
     "name": "stdout",
     "output_type": "stream",
     "text": [
      "1234567901234567901234567901234567901234567901234567901234567901234567901234567901234567901234567900987654320987654320987654320987654320987654320987654320987654320987654320987654320987654320987654321\n"
     ]
    }
   ],
   "source": [
    "s = str(n)\n",
    "res = str()\n",
    "for i in range(100):\n",
    "    res += s\n",
    "    \n",
    "print(int(res) ** 2)\n",
    "    "
   ]
  },
  {
   "cell_type": "markdown",
   "metadata": {},
   "source": [
    "Можно конечно еще через список решать."
   ]
  },
  {
   "cell_type": "markdown",
   "metadata": {
    "id": "LZFh27IYoH-M"
   },
   "source": [
    "## Задача 4. Проверка палиндрома\n",
    "\n",
    "Напишите проверку на то, является ли строка палиндромом. Палиндром — это слово или фраза, которые одинаково читаются слева направо и справа налево."
   ]
  },
  {
   "cell_type": "markdown",
   "metadata": {
    "id": "kZiGtagN0rn1"
   },
   "source": [
    "### Пример\n",
    "\n",
    "**Ввод:**\n",
    "\n",
    "```\n",
    "saippuakivikauppias\n",
    "```\n",
    "\n",
    "**Вывод:**\n",
    "\n",
    "```\n",
    "True\n",
    "```"
   ]
  },
  {
   "cell_type": "code",
   "execution_count": 12,
   "metadata": {
    "id": "dbmC6TJNTERJ"
   },
   "outputs": [
    {
     "name": "stdout",
     "output_type": "stream",
     "text": [
      "Введите строку для проверки: saippuakivikauppias\n"
     ]
    }
   ],
   "source": [
    "string = input('Введите строку для проверки: ')"
   ]
  },
  {
   "cell_type": "code",
   "execution_count": 14,
   "metadata": {},
   "outputs": [
    {
     "data": {
      "text/plain": [
       "True"
      ]
     },
     "execution_count": 14,
     "metadata": {},
     "output_type": "execute_result"
    }
   ],
   "source": [
    "string == string[::-1]    #Эту задачку легко решить через срез"
   ]
  },
  {
   "cell_type": "markdown",
   "metadata": {
    "id": "0dG5QsDnoJw4"
   },
   "source": [
    "## Задача 5. Преобразования времени\n",
    "\n",
    "Преобразуйте количество секунд в формат `дни:часы:минуты:секунды` (без использования `datetime`)."
   ]
  },
  {
   "cell_type": "markdown",
   "metadata": {
    "id": "oFDgkaCb1gjT"
   },
   "source": [
    "### Пример\n",
    "\n",
    "**Ввод:**\n",
    "\n",
    "```\n",
    "90061\n",
    "```\n",
    "\n",
    "**Вывод:**\n",
    "\n",
    "```\n",
    "1:1:1:1\n",
    "```"
   ]
  },
  {
   "cell_type": "code",
   "execution_count": 18,
   "metadata": {
    "id": "riZL3l86TJ2Z"
   },
   "outputs": [
    {
     "name": "stdout",
     "output_type": "stream",
     "text": [
      "Введите число секунд90061\n"
     ]
    }
   ],
   "source": [
    "seconds = int(input(\"Введите число секунд\"))"
   ]
  },
  {
   "cell_type": "code",
   "execution_count": 32,
   "metadata": {
    "id": "hZ9eY7HsoKyd"
   },
   "outputs": [],
   "source": [
    "d = 60 * 60 * 24    #секунд в сутках\n",
    "h = 60 * 60         #секунд в часах\n",
    "m = 60              #секунд в минуте\n",
    "s = '%'"
   ]
  },
  {
   "cell_type": "code",
   "execution_count": 46,
   "metadata": {},
   "outputs": [],
   "source": [
    "days = seconds // d    #вычисляю дни"
   ]
  },
  {
   "cell_type": "code",
   "execution_count": 40,
   "metadata": {},
   "outputs": [],
   "source": [
    "hours = (seconds - days * d) // h    #вычисляю часы"
   ]
  },
  {
   "cell_type": "code",
   "execution_count": 41,
   "metadata": {},
   "outputs": [],
   "source": [
    "minutes = (seconds - days * d - hours * h) // m    #вычисляю минуты    "
   ]
  },
  {
   "cell_type": "code",
   "execution_count": 43,
   "metadata": {},
   "outputs": [],
   "source": [
    "sec = (seconds - days * d - hours * h - minutes * m)    #вычисляю секунды"
   ]
  },
  {
   "cell_type": "code",
   "execution_count": 45,
   "metadata": {},
   "outputs": [
    {
     "name": "stdout",
     "output_type": "stream",
     "text": [
      "1:1:1:1\n"
     ]
    }
   ],
   "source": [
    "print(days, hours, minutes, sec, sep = ':')"
   ]
  },
  {
   "cell_type": "markdown",
   "metadata": {
    "id": "RONwF247oOGw"
   },
   "source": [
    "## Задача 6. Расширение файла\n",
    "\n",
    "Вы получаете на вход имя файла. Необходимо вывести его расширение. Если расширения у файла нет, выводите `\"Нет расширения\"`. \n",
    "\n",
    "Под разрешением файла понимают определённую последовательность букв или цифр, отделенную от основного имени файла точкой.\n",
    "\n",
    "**Примечание:** для файла `not_a_virus.jpg.exe` расширением является `.exe`, а не `.jpg.exe`."
   ]
  },
  {
   "cell_type": "markdown",
   "metadata": {
    "id": "LTt6E0kH1xRk"
   },
   "source": [
    "### Пример\n",
    "\n",
    "**Ввод:**\n",
    "\n",
    "```\n",
    "absolutely_not_a_virus.exe\n",
    "```\n",
    "\n",
    "**Вывод:**\n",
    "\n",
    "```\n",
    ".exe\n",
    "```"
   ]
  },
  {
   "cell_type": "code",
   "execution_count": 103,
   "metadata": {},
   "outputs": [],
   "source": [
    "def file_extension(filename):\n",
    "    result = str()\n",
    "    error = 'Нет расширения'\n",
    "    if '.' in filename:\n",
    "        for i in range(len(filename) - 1, 0, -1):\n",
    "            result += filename[i]\n",
    "            if filename[i] == '.':\n",
    "                break\n",
    "        return print(result[::-1])\n",
    "    else:\n",
    "        return print(error)"
   ]
  },
  {
   "cell_type": "markdown",
   "metadata": {},
   "source": [
    "Проверка функции"
   ]
  },
  {
   "cell_type": "code",
   "execution_count": 101,
   "metadata": {
    "id": "vtdlFYq6Ei3o"
   },
   "outputs": [
    {
     "name": "stdout",
     "output_type": "stream",
     "text": [
      "Введите имя файла: absolutely_not_a_virus.exe\n"
     ]
    }
   ],
   "source": [
    "filename = input(\"Введите имя файла: \")"
   ]
  },
  {
   "cell_type": "code",
   "execution_count": 104,
   "metadata": {},
   "outputs": [
    {
     "name": "stdout",
     "output_type": "stream",
     "text": [
      ".exe\n"
     ]
    }
   ],
   "source": [
    "file_extension(filename)"
   ]
  },
  {
   "cell_type": "markdown",
   "metadata": {},
   "source": [
    "Проверка на отсутствие расширения"
   ]
  },
  {
   "cell_type": "code",
   "execution_count": 105,
   "metadata": {},
   "outputs": [
    {
     "name": "stdout",
     "output_type": "stream",
     "text": [
      "Введите имя файла: absolutely_not_a_virusexe\n"
     ]
    }
   ],
   "source": [
    "filename = input(\"Введите имя файла: \")"
   ]
  },
  {
   "cell_type": "code",
   "execution_count": 106,
   "metadata": {},
   "outputs": [
    {
     "name": "stdout",
     "output_type": "stream",
     "text": [
      "Нет расширения\n"
     ]
    }
   ],
   "source": [
    "file_extension(filename)"
   ]
  },
  {
   "cell_type": "markdown",
   "metadata": {},
   "source": [
    "Проверка на расширение длинной больше 3 символов"
   ]
  },
  {
   "cell_type": "code",
   "execution_count": 107,
   "metadata": {},
   "outputs": [
    {
     "name": "stdout",
     "output_type": "stream",
     "text": [
      "Введите имя файла: Проверка_Расширения.ipynb\n"
     ]
    }
   ],
   "source": [
    "filename = input(\"Введите имя файла: \")"
   ]
  },
  {
   "cell_type": "code",
   "execution_count": 108,
   "metadata": {},
   "outputs": [
    {
     "name": "stdout",
     "output_type": "stream",
     "text": [
      ".ipynb\n"
     ]
    }
   ],
   "source": [
    "file_extension(filename)"
   ]
  },
  {
   "cell_type": "markdown",
   "metadata": {
    "id": "FF0C3-cTp0uy"
   },
   "source": [
    "## Задача 7. Обмен значениями\n",
    "\n",
    "Поменяйте значения переменных местами."
   ]
  },
  {
   "cell_type": "markdown",
   "metadata": {
    "id": "VXdwo36R1929"
   },
   "source": [
    "### Пример\n",
    "\n",
    "**Ввод:**\n",
    "\n",
    "```\n",
    "variable1\n",
    "variable2\n",
    "```\n",
    "\n",
    "**Вывод:**\n",
    "\n",
    "```\n",
    "variable2\n",
    "variable1\n",
    "```"
   ]
  },
  {
   "cell_type": "markdown",
   "metadata": {},
   "source": [
    "Обмен значений знаю, очень крутая штука в пайтоне)"
   ]
  },
  {
   "cell_type": "code",
   "execution_count": 115,
   "metadata": {
    "id": "KRHJfO1dcwNr"
   },
   "outputs": [
    {
     "name": "stdout",
     "output_type": "stream",
     "text": [
      "variable1\n",
      "variable2\n"
     ]
    }
   ],
   "source": [
    "val1 = input()\n",
    "val2 = input()"
   ]
  },
  {
   "cell_type": "code",
   "execution_count": 121,
   "metadata": {
    "id": "1BLkWTA5p2FZ"
   },
   "outputs": [],
   "source": [
    "def change_values(val1, val2):\n",
    "    val1, val2 = val2, val1\n",
    "    return print(val1, val2, sep='\\n')"
   ]
  },
  {
   "cell_type": "code",
   "execution_count": 122,
   "metadata": {},
   "outputs": [
    {
     "name": "stdout",
     "output_type": "stream",
     "text": [
      "variable2\n",
      "variable1\n"
     ]
    }
   ],
   "source": [
    "change_values(val1, val2)"
   ]
  },
  {
   "cell_type": "markdown",
   "metadata": {
    "id": "I2x5B2_Np9kO"
   },
   "source": [
    "## Задача 8. Уникальное содержимое\n",
    "\n",
    "Вы получаете на вход строку. Нужно проверить, все ли символы в ней уникальны (встречаются в строке только один раз), и вывести `True`, если все символы уникальные, иначе `False`."
   ]
  },
  {
   "cell_type": "markdown",
   "metadata": {
    "id": "XELI_NG82FMH"
   },
   "source": [
    "### Пример\n",
    "\n",
    "**Ввод:**\n",
    "\n",
    "```\n",
    "эй,жлоб!Гдетуз?Прячьюныхсъёмщицвшкаф.\n",
    "```\n",
    "\n",
    "**Вывод:**\n",
    "\n",
    "```\n",
    "True\n",
    "```"
   ]
  },
  {
   "cell_type": "code",
   "execution_count": 132,
   "metadata": {},
   "outputs": [],
   "source": [
    "def unique_symbol(s):\n",
    "    s_set = set(string)\n",
    "    if len(string) == len(s_set):\n",
    "        return print('True')\n",
    "    else:\n",
    "        return print('False')"
   ]
  },
  {
   "cell_type": "code",
   "execution_count": 126,
   "metadata": {
    "id": "f9t98R-5EUU4"
   },
   "outputs": [
    {
     "name": "stdout",
     "output_type": "stream",
     "text": [
      "Введите строку: эй,жлоб!Гдетуз?Прячьюныхсъёмщицвшкаф.\n"
     ]
    }
   ],
   "source": [
    "string = input(\"Введите строку: \")"
   ]
  },
  {
   "cell_type": "code",
   "execution_count": 133,
   "metadata": {
    "id": "gsiB8H61p_Bb"
   },
   "outputs": [
    {
     "name": "stdout",
     "output_type": "stream",
     "text": [
      "True\n"
     ]
    }
   ],
   "source": [
    "unique_symbol(string)"
   ]
  },
  {
   "cell_type": "markdown",
   "metadata": {
    "id": "Dj3SgDdLahaZ"
   },
   "source": [
    "## Задача 9. Простой анализ рынка\n",
    "\n",
    "Вы принимаете на ввод с клавиатуры целое число. Необходимо вывести `\"цена выше рынка\"`, если число выше 1200, `\"цена ниже рыночной\"`, если число меньше 800 и `\"все ок\"` в остальных случаях."
   ]
  },
  {
   "cell_type": "markdown",
   "metadata": {
    "id": "PZGXP0gR3Mqw"
   },
   "source": [
    "### Пример\n",
    "\n",
    "**Ввод:**\n",
    "\n",
    "```\n",
    "1400\n",
    "```\n",
    "\n",
    "**Вывод:**\n",
    "\n",
    "```\n",
    "цена выше рынка\n",
    "```"
   ]
  },
  {
   "cell_type": "code",
   "execution_count": 136,
   "metadata": {
    "id": "J3GbLr6cJia7"
   },
   "outputs": [
    {
     "name": "stdout",
     "output_type": "stream",
     "text": [
      "Введите цену: 799\n"
     ]
    }
   ],
   "source": [
    "price = int(input(\"Введите цену: \"))"
   ]
  },
  {
   "cell_type": "code",
   "execution_count": 135,
   "metadata": {
    "id": "jVi685NrawKc"
   },
   "outputs": [],
   "source": [
    "def market(price):\n",
    "    if price > 1200:\n",
    "        return print('цена выше рынка')\n",
    "    elif price < 800:\n",
    "        return print('цена ниже рыночной')\n",
    "    else:\n",
    "        return print('все ок')"
   ]
  },
  {
   "cell_type": "code",
   "execution_count": 138,
   "metadata": {},
   "outputs": [
    {
     "name": "stdout",
     "output_type": "stream",
     "text": [
      "цена ниже рыночной\n"
     ]
    }
   ],
   "source": [
    "market(price)"
   ]
  },
  {
   "cell_type": "code",
   "execution_count": 139,
   "metadata": {},
   "outputs": [
    {
     "name": "stdout",
     "output_type": "stream",
     "text": [
      "Введите цену: 1199\n"
     ]
    }
   ],
   "source": [
    "price = int(input(\"Введите цену: \"))"
   ]
  },
  {
   "cell_type": "code",
   "execution_count": 140,
   "metadata": {},
   "outputs": [
    {
     "name": "stdout",
     "output_type": "stream",
     "text": [
      "все ок\n"
     ]
    }
   ],
   "source": [
    "market(price)"
   ]
  },
  {
   "cell_type": "code",
   "execution_count": 141,
   "metadata": {},
   "outputs": [
    {
     "name": "stdout",
     "output_type": "stream",
     "text": [
      "Введите цену: 1201\n"
     ]
    }
   ],
   "source": [
    "price = int(input(\"Введите цену: \"))"
   ]
  },
  {
   "cell_type": "code",
   "execution_count": 142,
   "metadata": {},
   "outputs": [
    {
     "name": "stdout",
     "output_type": "stream",
     "text": [
      "цена выше рынка\n"
     ]
    }
   ],
   "source": [
    "market(price)"
   ]
  },
  {
   "cell_type": "markdown",
   "metadata": {
    "id": "rO-Amdrhbfc5"
   },
   "source": [
    "## Задача 10. Частичный разворот\n",
    "\n",
    "Вы принимаете на вход строку. Необходимо переставить символы этой строки с **нечетными индексами** в обратном порядке и вывести получившуюся строку.\n",
    "\n",
    "**Подсказка:** срезы можно использовать не только, чтобы получить элементы строки, но и чтобы присвоить элементы строки."
   ]
  },
  {
   "cell_type": "markdown",
   "metadata": {
    "id": "j7r_BtmI3SkH"
   },
   "source": [
    "### Пример\n",
    "\n",
    "**Ввод:**\n",
    "\n",
    "```\n",
    "0123456789\n",
    "```\n",
    "\n",
    "**Вывод:**\n",
    "\n",
    "```\n",
    "0927456381\n",
    "```"
   ]
  },
  {
   "cell_type": "markdown",
   "metadata": {},
   "source": [
    "Я вот подсказку не понял, так что у меня вопрос.\n",
    "Строки же не изменные, я могу разве что новую строку перенабрать, но мне кажется это гемморой и проще конвертнуть в список это дело.\n",
    "\n",
    "Терпеть не могу строки за то , что их отдельные символы нельзя поменять с помощью срезов ыуы"
   ]
  },
  {
   "cell_type": "code",
   "execution_count": 203,
   "metadata": {
    "id": "R--qKZF5Jv29"
   },
   "outputs": [
    {
     "name": "stdout",
     "output_type": "stream",
     "text": [
      "Введите строку: 0123456789\n"
     ]
    }
   ],
   "source": [
    "string = input(\"Введите строку: \")"
   ]
  },
  {
   "cell_type": "code",
   "execution_count": 201,
   "metadata": {
    "id": "e3SdQqGLbnI9"
   },
   "outputs": [],
   "source": [
    "def mirror(string):\n",
    "    l1 = list(string)\n",
    "    l2 = list(string)\n",
    "    l1[1::2], l2[::-2] = l2[::-2], l1[1::2]\n",
    "    return print(*l1, sep='')"
   ]
  },
  {
   "cell_type": "code",
   "execution_count": 205,
   "metadata": {},
   "outputs": [
    {
     "name": "stdout",
     "output_type": "stream",
     "text": [
      "0927456381\n"
     ]
    }
   ],
   "source": [
    "mirror(string)"
   ]
  },
  {
   "cell_type": "code",
   "execution_count": 206,
   "metadata": {},
   "outputs": [
    {
     "ename": "TypeError",
     "evalue": "'str' object does not support item assignment",
     "output_type": "error",
     "traceback": [
      "\u001b[1;31m---------------------------------------------------------------------------\u001b[0m",
      "\u001b[1;31mTypeError\u001b[0m                                 Traceback (most recent call last)",
      "Input \u001b[1;32mIn [206]\u001b[0m, in \u001b[0;36m<cell line: 2>\u001b[1;34m()\u001b[0m\n\u001b[0;32m      1\u001b[0m \u001b[38;5;66;03m#Если пытаться сделать то же самое со строкой, то ничего не получится\u001b[39;00m\n\u001b[1;32m----> 2\u001b[0m string[\u001b[38;5;241m1\u001b[39m::\u001b[38;5;241m2\u001b[39m], string[::\u001b[38;5;241m-\u001b[39m\u001b[38;5;241m2\u001b[39m] \u001b[38;5;241m=\u001b[39m string[::\u001b[38;5;241m-\u001b[39m\u001b[38;5;241m2\u001b[39m], string[\u001b[38;5;241m1\u001b[39m::\u001b[38;5;241m2\u001b[39m]\n",
      "\u001b[1;31mTypeError\u001b[0m: 'str' object does not support item assignment"
     ]
    }
   ],
   "source": [
    "#Если пытаться сделать то же самое со строкой, то ничего не получится\n",
    "string[1::2], string[::-2] = string[::-2], string[1::2]"
   ]
  },
  {
   "cell_type": "code",
   "execution_count": 208,
   "metadata": {},
   "outputs": [
    {
     "ename": "TypeError",
     "evalue": "'str' object does not support item assignment",
     "output_type": "error",
     "traceback": [
      "\u001b[1;31m---------------------------------------------------------------------------\u001b[0m",
      "\u001b[1;31mTypeError\u001b[0m                                 Traceback (most recent call last)",
      "Input \u001b[1;32mIn [208]\u001b[0m, in \u001b[0;36m<cell line: 1>\u001b[1;34m()\u001b[0m\n\u001b[1;32m----> 1\u001b[0m string[\u001b[38;5;241m2\u001b[39m] \u001b[38;5;241m=\u001b[39m string[\u001b[38;5;241m-\u001b[39m\u001b[38;5;241m2\u001b[39m]\n",
      "\u001b[1;31mTypeError\u001b[0m: 'str' object does not support item assignment"
     ]
    }
   ],
   "source": [
    "string[2] = string[-2]"
   ]
  }
 ],
 "metadata": {
  "colab": {
   "provenance": []
  },
  "kernelspec": {
   "display_name": "Python 3 (ipykernel)",
   "language": "python",
   "name": "python3"
  },
  "language_info": {
   "codemirror_mode": {
    "name": "ipython",
    "version": 3
   },
   "file_extension": ".py",
   "mimetype": "text/x-python",
   "name": "python",
   "nbconvert_exporter": "python",
   "pygments_lexer": "ipython3",
   "version": "3.9.12"
  },
  "toc": {
   "base_numbering": 1,
   "nav_menu": {},
   "number_sections": true,
   "sideBar": true,
   "skip_h1_title": false,
   "title_cell": "Table of Contents",
   "title_sidebar": "Contents",
   "toc_cell": true,
   "toc_position": {},
   "toc_section_display": true,
   "toc_window_display": true
  }
 },
 "nbformat": 4,
 "nbformat_minor": 1
}
