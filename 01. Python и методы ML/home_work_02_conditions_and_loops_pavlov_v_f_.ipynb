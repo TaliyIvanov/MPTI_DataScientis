{
  "nbformat": 4,
  "nbformat_minor": 0,
  "metadata": {
    "colab": {
      "provenance": [],
      "toc_visible": true
    },
    "kernelspec": {
      "name": "python3",
      "display_name": "Python 3"
    },
    "language_info": {
      "name": "python"
    }
  },
  "cells": [
    {
      "cell_type": "markdown",
      "metadata": {
        "id": "7LF38xA7LIlT"
      },
      "source": [
        "## <font color=\"green\">1. List</font>"
      ]
    },
    {
      "cell_type": "markdown",
      "source": [
        "[Ссылка на документацию](https://docs.python.org/3/tutorial/datastructures.html#more-on-lists)"
      ],
      "metadata": {
        "id": "KFIx1H_m4QlO"
      }
    },
    {
      "cell_type": "markdown",
      "metadata": {
        "id": "8-MFZQ3xLIlU"
      },
      "source": [
        "### Задача 1.1"
      ]
    },
    {
      "cell_type": "markdown",
      "source": [
        "Эта задача состоит из нескольких пунктов:\n",
        "\n",
        "1. Создайте переменную `cleared_python_text`, удалив все небуквенные символы из указанной строки `python_text` (оставьте буквы, цифры и знак пробела)\n",
        "2. Преобразуйте строку к нижнему регистру\n",
        "3. Создайте список `python_words`, состоящий из слов строки `cleared_python_text`\n",
        "4. Выведите длину получившегося списка `python_words`.\n",
        "\n",
        "**Подсказки:**\n",
        "- для разбиения строки можно использовать метод `str.split`\n",
        "- для удаления конкретного символа из строки можно использовать метод `str.replace`, выполнив замену нужного символа на пустую строку"
      ],
      "metadata": {
        "id": "FbB15RNreEwU"
      }
    },
    {
      "cell_type": "code",
      "metadata": {
        "id": "CF2q1lHnLIlU"
      },
      "source": [
        "python_text = \"\"\"\n",
        "Python is an interpreted high-level general-purpose programming language. Python's design \n",
        "philosophy emphasizes code readability with its notable use of significant indentation. Its \n",
        "language constructs as well as its object-oriented approach aim to help programmers write clear, \n",
        "logical code for small and large-scale projects. Python is dynamically-typed and \n",
        "garbage-collected. It supports multiple programming paradigms, including structured (particularly, \n",
        "procedural), object-oriented and functional programming. Python is often described as a \"batteries \n",
        "included\" language due to its comprehensive standard library. Guido van Rossum began working on \n",
        "Python in the late 1980s, as a successor to the ABC programming language, and first released it in \n",
        "1991 as Python 0.9.0. Python 2.0 was released in 2000 and introduced new features, such as list \n",
        "comprehensions and a garbage collection system using reference counting. Python 3.0 was released in \n",
        "2008 and was a major revision of the language that is not completely backward-compatible and much \n",
        "Python 2 code does not run unmodified on Python 3. Python 2 was discontinued with version 2.7.18 in \n",
        "2020. Python consistently ranks as one of the most popular programming \n",
        "languages.\n",
        "\"\"\""
      ],
      "execution_count": 58,
      "outputs": []
    },
    {
      "cell_type": "code",
      "source": [
        "# список символов, которые необходимо заменить\n",
        "remov = [\".\", \",\", \"(\", \")\", '-', '\"', \"'\", '\\n']"
      ],
      "metadata": {
        "id": "SRRR-_GmhO5y"
      },
      "execution_count": 59,
      "outputs": []
    },
    {
      "cell_type": "code",
      "metadata": {
        "id": "ymxoyv2ZLIlV"
      },
      "source": [
        "# удаление небуквенных символов\n",
        "for r in remov:\n",
        "  python_text = python_text.replace(r, ' ')\n",
        "cleared_python_text = python_text"
      ],
      "execution_count": 60,
      "outputs": []
    },
    {
      "cell_type": "code",
      "source": [
        "#нашел вот такой код\n",
        "# интересно, что если сразу присваивать изменяемый python_text\n",
        "# cleared_python_text, то работать не будет\n",
        "# сначала надо изменить текст\n",
        "# а уже после присвоить это значение cleared_python_text\n",
        "\n",
        "# multiple characters to be replace\n",
        "string = \"FavTutor Blog: How to Remove multiple characters in a string in Python\"\n",
        "# let's say we need to replace characters - 't', 'l', 'r'\n",
        "# creating a list for the characters to be replaced\n",
        "char_remov = [\"t\", \"l\", \"r\"]\n",
        "\n",
        "print(\"Original string: \" + string)\n",
        "# let's say we need to replace them with a special character '#'\n",
        "# Using the for loop for each character of char_remov\n",
        "\n",
        "for char in char_remov:\n",
        "    # replace() \"returns\" an altered string\n",
        "    string = string.replace(char, \"#\")\n",
        "\n",
        "print(\"Altered string: \" + string)"
      ],
      "metadata": {
        "colab": {
          "base_uri": "https://localhost:8080/"
        },
        "id": "V9ouQRDkk-C1",
        "outputId": "ff359980-f35c-42ea-e97d-1e344b9e53b2"
      },
      "execution_count": 14,
      "outputs": [
        {
          "output_type": "stream",
          "name": "stdout",
          "text": [
            "Original string: FavTutor Blog: How to Remove multiple characters in a string in Python\n",
            "Altered string: FavTu#o# B#og: How #o Remove mu##ip#e cha#ac#e#s in a s##ing in Py#hon\n"
          ]
        }
      ]
    },
    {
      "cell_type": "code",
      "source": [
        "print(cleared_python_text)"
      ],
      "metadata": {
        "colab": {
          "base_uri": "https://localhost:8080/"
        },
        "id": "eNIBFq2ttMic",
        "outputId": "66b91d04-a8e0-4bbc-dbdb-017873e013aa"
      },
      "execution_count": 61,
      "outputs": [
        {
          "output_type": "stream",
          "name": "stdout",
          "text": [
            " Python is an interpreted high level general purpose programming language  Python s design  philosophy emphasizes code readability with its notable use of significant indentation  Its  language constructs as well as its object oriented approach aim to help programmers write clear   logical code for small and large scale projects  Python is dynamically typed and  garbage collected  It supports multiple programming paradigms  including structured  particularly   procedural   object oriented and functional programming  Python is often described as a  batteries  included  language due to its comprehensive standard library  Guido van Rossum began working on  Python in the late 1980s  as a successor to the ABC programming language  and first released it in  1991 as Python 0 9 0  Python 2 0 was released in 2000 and introduced new features  such as list  comprehensions and a garbage collection system using reference counting  Python 3 0 was released in  2008 and was a major revision of the language that is not completely backward compatible and much  Python 2 code does not run unmodified on Python 3  Python 2 was discontinued with version 2 7 18 in  2020  Python consistently ranks as one of the most popular programming  languages  \n"
          ]
        }
      ]
    },
    {
      "cell_type": "code",
      "source": [
        "# приведение к нижнему регистру\n",
        "cleared_python_text = cleared_python_text.lower()"
      ],
      "metadata": {
        "id": "azESjnwRAlh2"
      },
      "execution_count": 62,
      "outputs": []
    },
    {
      "cell_type": "code",
      "source": [
        "# создание списка слов\n",
        "python_words = list(cleared_python_text.split(' '))"
      ],
      "metadata": {
        "id": "lIVKaG-RAl4T"
      },
      "execution_count": 63,
      "outputs": []
    },
    {
      "cell_type": "code",
      "source": [
        "# удалим лишние значения пробелов\n",
        "for i in range(len(python_words) - 1):\n",
        "  if python_words[i] == '':\n",
        "    python_words.pop(i)"
      ],
      "metadata": {
        "id": "7NLSXWEJnbov"
      },
      "execution_count": 66,
      "outputs": []
    },
    {
      "cell_type": "code",
      "source": [
        "# посмотрим на сам список, чтобы убедиться, что все в целом красиво\n",
        "python_words"
      ],
      "metadata": {
        "colab": {
          "base_uri": "https://localhost:8080/"
        },
        "id": "MIGgTin6v_Ks",
        "outputId": "35e79ac4-5319-4c52-bd5d-91dc866e9a44"
      },
      "execution_count": 68,
      "outputs": [
        {
          "output_type": "execute_result",
          "data": {
            "text/plain": [
              "['python',\n",
              " 'is',\n",
              " 'an',\n",
              " 'interpreted',\n",
              " 'high',\n",
              " 'level',\n",
              " 'general',\n",
              " 'purpose',\n",
              " 'programming',\n",
              " 'language',\n",
              " 'python',\n",
              " 's',\n",
              " 'design',\n",
              " 'philosophy',\n",
              " 'emphasizes',\n",
              " 'code',\n",
              " 'readability',\n",
              " 'with',\n",
              " 'its',\n",
              " 'notable',\n",
              " 'use',\n",
              " 'of',\n",
              " 'significant',\n",
              " 'indentation',\n",
              " 'its',\n",
              " 'language',\n",
              " 'constructs',\n",
              " 'as',\n",
              " 'well',\n",
              " 'as',\n",
              " 'its',\n",
              " 'object',\n",
              " 'oriented',\n",
              " 'approach',\n",
              " 'aim',\n",
              " 'to',\n",
              " 'help',\n",
              " 'programmers',\n",
              " 'write',\n",
              " 'clear',\n",
              " 'logical',\n",
              " 'code',\n",
              " 'for',\n",
              " 'small',\n",
              " 'and',\n",
              " 'large',\n",
              " 'scale',\n",
              " 'projects',\n",
              " 'python',\n",
              " 'is',\n",
              " 'dynamically',\n",
              " 'typed',\n",
              " 'and',\n",
              " 'garbage',\n",
              " 'collected',\n",
              " 'it',\n",
              " 'supports',\n",
              " 'multiple',\n",
              " 'programming',\n",
              " 'paradigms',\n",
              " 'including',\n",
              " 'structured',\n",
              " 'particularly',\n",
              " 'procedural',\n",
              " 'object',\n",
              " 'oriented',\n",
              " 'and',\n",
              " 'functional',\n",
              " 'programming',\n",
              " 'python',\n",
              " 'is',\n",
              " 'often',\n",
              " 'described',\n",
              " 'as',\n",
              " 'a',\n",
              " 'batteries',\n",
              " 'included',\n",
              " 'language',\n",
              " 'due',\n",
              " 'to',\n",
              " 'its',\n",
              " 'comprehensive',\n",
              " 'standard',\n",
              " 'library',\n",
              " 'guido',\n",
              " 'van',\n",
              " 'rossum',\n",
              " 'began',\n",
              " 'working',\n",
              " 'on',\n",
              " 'python',\n",
              " 'in',\n",
              " 'the',\n",
              " 'late',\n",
              " '1980s',\n",
              " 'as',\n",
              " 'a',\n",
              " 'successor',\n",
              " 'to',\n",
              " 'the',\n",
              " 'abc',\n",
              " 'programming',\n",
              " 'language',\n",
              " 'and',\n",
              " 'first',\n",
              " 'released',\n",
              " 'it',\n",
              " 'in',\n",
              " '1991',\n",
              " 'as',\n",
              " 'python',\n",
              " '0',\n",
              " '9',\n",
              " '0',\n",
              " 'python',\n",
              " '2',\n",
              " '0',\n",
              " 'was',\n",
              " 'released',\n",
              " 'in',\n",
              " '2000',\n",
              " 'and',\n",
              " 'introduced',\n",
              " 'new',\n",
              " 'features',\n",
              " 'such',\n",
              " 'as',\n",
              " 'list',\n",
              " 'comprehensions',\n",
              " 'and',\n",
              " 'a',\n",
              " 'garbage',\n",
              " 'collection',\n",
              " 'system',\n",
              " 'using',\n",
              " 'reference',\n",
              " 'counting',\n",
              " 'python',\n",
              " '3',\n",
              " '0',\n",
              " 'was',\n",
              " 'released',\n",
              " 'in',\n",
              " '2008',\n",
              " 'and',\n",
              " 'was',\n",
              " 'a',\n",
              " 'major',\n",
              " 'revision',\n",
              " 'of',\n",
              " 'the',\n",
              " 'language',\n",
              " 'that',\n",
              " 'is',\n",
              " 'not',\n",
              " 'completely',\n",
              " 'backward',\n",
              " 'compatible',\n",
              " 'and',\n",
              " 'much',\n",
              " 'python',\n",
              " '2',\n",
              " 'code',\n",
              " 'does',\n",
              " 'not',\n",
              " 'run',\n",
              " 'unmodified',\n",
              " 'on',\n",
              " 'python',\n",
              " '3',\n",
              " 'python',\n",
              " '2',\n",
              " 'was',\n",
              " 'discontinued',\n",
              " 'with',\n",
              " 'version',\n",
              " '2',\n",
              " '7',\n",
              " '18',\n",
              " 'in',\n",
              " '2020',\n",
              " 'python',\n",
              " 'consistently',\n",
              " 'ranks',\n",
              " 'as',\n",
              " 'one',\n",
              " 'of',\n",
              " 'the',\n",
              " 'most',\n",
              " 'popular',\n",
              " 'programming',\n",
              " 'languages']"
            ]
          },
          "metadata": {},
          "execution_count": 68
        }
      ]
    },
    {
      "cell_type": "code",
      "source": [
        "# вывод длины списка\n",
        "len(python_words)"
      ],
      "metadata": {
        "id": "N9p_vtMXAn5M",
        "colab": {
          "base_uri": "https://localhost:8080/"
        },
        "outputId": "aa8eca91-b28e-44b6-e6e4-b49c3729c8d4"
      },
      "execution_count": 69,
      "outputs": [
        {
          "output_type": "execute_result",
          "data": {
            "text/plain": [
              "192"
            ]
          },
          "metadata": {},
          "execution_count": 69
        }
      ]
    },
    {
      "cell_type": "markdown",
      "metadata": {
        "id": "79-KQTeBLIlV"
      },
      "source": [
        "### Задача 1.2\n"
      ]
    },
    {
      "cell_type": "markdown",
      "source": [
        "Напечатайте все подсписки для списка `nucleotides`.\n",
        "\n",
        "**Примечание:** подсписком `a` списка `b` называется такой список `a` все элементы которого также являются и элементами списка `b` (*но не наоборот!*), пустой список является подсписком для любого списка.\n",
        "\n",
        "*Пример подсписка:* список `[a, c]` является подсписком для `[a, b, c]`.\n",
        "\n",
        "**Пример ввода:** (значение списка `nucleotides`)\n",
        "```python\n",
        "[0, 1]\n",
        "```\n",
        "\n",
        "**Пример вывода:** (то, что должен вывести ваш код)\n",
        "```python\n",
        "[]\n",
        "[0]\n",
        "[1]\n",
        "[0, 1]\n",
        "```"
      ],
      "metadata": {
        "id": "pixVnOqNeB7T"
      }
    },
    {
      "cell_type": "code",
      "metadata": {
        "id": "ucN2IaC0LIlV"
      },
      "source": [
        "nucleotides = ['A', 'T', 'G', 'C']"
      ],
      "execution_count": null,
      "outputs": []
    },
    {
      "cell_type": "code",
      "source": [
        "new_list = [[]]\n",
        " \n",
        "for i in range(len(nucleotides)):\n",
        "    for u in range(len(nucleotides) - i):\n",
        "        new_list.append(nucleotides[u:u+i+1])\n",
        "        \n",
        "print(*new_list, sep = '\\n')"
      ],
      "metadata": {
        "colab": {
          "base_uri": "https://localhost:8080/"
        },
        "id": "pQvafT3-mVZK",
        "outputId": "9d02b0bd-41f1-4093-bf80-e07c3a865aa9"
      },
      "execution_count": null,
      "outputs": [
        {
          "output_type": "stream",
          "name": "stdout",
          "text": [
            "[]\n",
            "['A']\n",
            "['T']\n",
            "['G']\n",
            "['C']\n",
            "['A', 'T']\n",
            "['T', 'G']\n",
            "['G', 'C']\n",
            "['A', 'T', 'G']\n",
            "['T', 'G', 'C']\n",
            "['A', 'T', 'G', 'C']\n"
          ]
        }
      ]
    },
    {
      "cell_type": "markdown",
      "metadata": {
        "id": "Pn0BHR1SLIlW"
      },
      "source": [
        "### Задача 1.3"
      ]
    },
    {
      "cell_type": "markdown",
      "source": [
        "С помощью `list comprehension` создайте матрицу (список, состоящий из списков чисел) размера $N \\times N$, содержащую квадраты чисел по возрастанию, начиная с 0. Сначала заполняется первая кологка, затем вторая и т.д.\n",
        "\n",
        "**Пример ввода:**\n",
        "```python\n",
        "3\n",
        "```\n",
        "\n",
        "**Пример вывода:**\n",
        "```python\n",
        "[[0, 9, 36]\n",
        "[1, 16, 49]\n",
        "[4, 25, 64]]\n",
        "```"
      ],
      "metadata": {
        "id": "OgvEohbsd_kb"
      }
    },
    {
      "cell_type": "code",
      "source": [
        "# эту задачу я решу позже"
      ],
      "metadata": {
        "id": "Jsz0FN80wrql"
      },
      "execution_count": 70,
      "outputs": []
    },
    {
      "cell_type": "code",
      "metadata": {
        "id": "l3V2rBUxLIlW",
        "colab": {
          "base_uri": "https://localhost:8080/",
          "height": 258
        },
        "outputId": "cf159695-8185-421d-babc-c757c2008920"
      },
      "source": [
        "N = 3\n",
        "\n",
        "for i in range(N):\n",
        "\n",
        "  "
      ],
      "execution_count": null,
      "outputs": [
        {
          "output_type": "error",
          "ename": "NameError",
          "evalue": "ignored",
          "traceback": [
            "\u001b[0;31m---------------------------------------------------------------------------\u001b[0m",
            "\u001b[0;31mNameError\u001b[0m                                 Traceback (most recent call last)",
            "\u001b[0;32m<ipython-input-148-f77931390c26>\u001b[0m in \u001b[0;36m<cell line: 2>\u001b[0;34m()\u001b[0m\n\u001b[1;32m      1\u001b[0m \u001b[0;31m# ваш код в этой ячейке\u001b[0m\u001b[0;34m\u001b[0m\u001b[0;34m\u001b[0m\u001b[0m\n\u001b[0;32m----> 2\u001b[0;31m \u001b[0;34m[\u001b[0m\u001b[0;34m[\u001b[0m\u001b[0mrow\u001b[0m\u001b[0;34m[\u001b[0m\u001b[0mi\u001b[0m\u001b[0;34m]\u001b[0m \u001b[0;32mfor\u001b[0m \u001b[0mrow\u001b[0m \u001b[0;32min\u001b[0m \u001b[0mmatrix\u001b[0m\u001b[0;34m]\u001b[0m \u001b[0;32mfor\u001b[0m \u001b[0mi\u001b[0m \u001b[0;32min\u001b[0m \u001b[0mrange\u001b[0m\u001b[0;34m(\u001b[0m\u001b[0;36m3\u001b[0m\u001b[0;34m)\u001b[0m\u001b[0;34m]\u001b[0m\u001b[0;34m\u001b[0m\u001b[0;34m\u001b[0m\u001b[0m\n\u001b[0m",
            "\u001b[0;32m<ipython-input-148-f77931390c26>\u001b[0m in \u001b[0;36m<listcomp>\u001b[0;34m(.0)\u001b[0m\n\u001b[1;32m      1\u001b[0m \u001b[0;31m# ваш код в этой ячейке\u001b[0m\u001b[0;34m\u001b[0m\u001b[0;34m\u001b[0m\u001b[0m\n\u001b[0;32m----> 2\u001b[0;31m \u001b[0;34m[\u001b[0m\u001b[0;34m[\u001b[0m\u001b[0mrow\u001b[0m\u001b[0;34m[\u001b[0m\u001b[0mi\u001b[0m\u001b[0;34m]\u001b[0m \u001b[0;32mfor\u001b[0m \u001b[0mrow\u001b[0m \u001b[0;32min\u001b[0m \u001b[0mmatrix\u001b[0m\u001b[0;34m]\u001b[0m \u001b[0;32mfor\u001b[0m \u001b[0mi\u001b[0m \u001b[0;32min\u001b[0m \u001b[0mrange\u001b[0m\u001b[0;34m(\u001b[0m\u001b[0;36m3\u001b[0m\u001b[0;34m)\u001b[0m\u001b[0;34m]\u001b[0m\u001b[0;34m\u001b[0m\u001b[0;34m\u001b[0m\u001b[0m\n\u001b[0m",
            "\u001b[0;31mNameError\u001b[0m: name 'matrix' is not defined"
          ]
        }
      ]
    },
    {
      "cell_type": "code",
      "source": [
        "[[row[i] for row in matrix] for i in range(4)]"
      ],
      "metadata": {
        "colab": {
          "base_uri": "https://localhost:8080/",
          "height": 222
        },
        "id": "nL7yTKvwD1u0",
        "outputId": "145030dd-baa0-4b70-abca-c6cdeba30ead"
      },
      "execution_count": null,
      "outputs": [
        {
          "output_type": "error",
          "ename": "NameError",
          "evalue": "ignored",
          "traceback": [
            "\u001b[0;31m---------------------------------------------------------------------------\u001b[0m",
            "\u001b[0;31mNameError\u001b[0m                                 Traceback (most recent call last)",
            "\u001b[0;32m<ipython-input-149-4fba497a70e1>\u001b[0m in \u001b[0;36m<cell line: 1>\u001b[0;34m()\u001b[0m\n\u001b[0;32m----> 1\u001b[0;31m \u001b[0;34m[\u001b[0m\u001b[0;34m[\u001b[0m\u001b[0mrow\u001b[0m\u001b[0;34m[\u001b[0m\u001b[0mi\u001b[0m\u001b[0;34m]\u001b[0m \u001b[0;32mfor\u001b[0m \u001b[0mrow\u001b[0m \u001b[0;32min\u001b[0m \u001b[0mmatrix\u001b[0m\u001b[0;34m]\u001b[0m \u001b[0;32mfor\u001b[0m \u001b[0mi\u001b[0m \u001b[0;32min\u001b[0m \u001b[0mrange\u001b[0m\u001b[0;34m(\u001b[0m\u001b[0;36m4\u001b[0m\u001b[0;34m)\u001b[0m\u001b[0;34m]\u001b[0m\u001b[0;34m\u001b[0m\u001b[0;34m\u001b[0m\u001b[0m\n\u001b[0m",
            "\u001b[0;32m<ipython-input-149-4fba497a70e1>\u001b[0m in \u001b[0;36m<listcomp>\u001b[0;34m(.0)\u001b[0m\n\u001b[0;32m----> 1\u001b[0;31m \u001b[0;34m[\u001b[0m\u001b[0;34m[\u001b[0m\u001b[0mrow\u001b[0m\u001b[0;34m[\u001b[0m\u001b[0mi\u001b[0m\u001b[0;34m]\u001b[0m \u001b[0;32mfor\u001b[0m \u001b[0mrow\u001b[0m \u001b[0;32min\u001b[0m \u001b[0mmatrix\u001b[0m\u001b[0;34m]\u001b[0m \u001b[0;32mfor\u001b[0m \u001b[0mi\u001b[0m \u001b[0;32min\u001b[0m \u001b[0mrange\u001b[0m\u001b[0;34m(\u001b[0m\u001b[0;36m4\u001b[0m\u001b[0;34m)\u001b[0m\u001b[0;34m]\u001b[0m\u001b[0;34m\u001b[0m\u001b[0;34m\u001b[0m\u001b[0m\n\u001b[0m",
            "\u001b[0;31mNameError\u001b[0m: name 'matrix' is not defined"
          ]
        }
      ]
    },
    {
      "cell_type": "markdown",
      "metadata": {
        "id": "wS1oIF_JLIlW"
      },
      "source": [
        "### Задача 1.4\n",
        "\n"
      ]
    },
    {
      "cell_type": "markdown",
      "source": [
        "На вход подается список `input_list`, который содержит в себе как элементы базовых типов данных, так и другие списки, содержащие элементы базовых типов данных. Необходимо \"выровнить\" список `input_list` (см. пример) и поместить результат в список `output_list`.\n",
        "\n",
        "**Пример ввода:**\n",
        "```python\n",
        "[0, [1, 2], 4, [1, 0, 3]]\n",
        "```\n",
        "\n",
        "**Пример вывода:**\n",
        "```python\n",
        "[0, 1, 2, 4, 1, 0, 3]\n",
        "```"
      ],
      "metadata": {
        "id": "aO9gx1U3d8yJ"
      }
    },
    {
      "cell_type": "code",
      "source": [
        "vec = [0, [1, 2], 4, [1, 0, 3]]"
      ],
      "metadata": {
        "id": "qvBUpbDZxhcA"
      },
      "execution_count": 76,
      "outputs": []
    },
    {
      "cell_type": "code",
      "source": [
        "vec = [[1,2,3], [4,5,6], [7,8,9]]"
      ],
      "metadata": {
        "id": "mjwaGBN6zzDF"
      },
      "execution_count": 78,
      "outputs": []
    },
    {
      "cell_type": "code",
      "source": [
        "[num for elem in vec for num in elem]"
      ],
      "metadata": {
        "colab": {
          "base_uri": "https://localhost:8080/"
        },
        "id": "ovLl_pIuzb7E",
        "outputId": "205bc2b7-55d3-49a9-8176-b058f56f2a20"
      },
      "execution_count": 79,
      "outputs": [
        {
          "output_type": "execute_result",
          "data": {
            "text/plain": [
              "[1, 2, 3, 4, 5, 6, 7, 8, 9]"
            ]
          },
          "metadata": {},
          "execution_count": 79
        }
      ]
    },
    {
      "cell_type": "markdown",
      "metadata": {
        "id": "k0bMk_8KLIlW"
      },
      "source": [
        "## <font color=\"green\">2. Tuple</font>"
      ]
    },
    {
      "cell_type": "markdown",
      "source": [
        "[Ссылка на документацию](https://docs.python.org/3/tutorial/datastructures.html#tuples-and-sequences\")"
      ],
      "metadata": {
        "id": "j1V5HF82cLLE"
      }
    },
    {
      "cell_type": "markdown",
      "metadata": {
        "id": "_YACckMiLIlW"
      },
      "source": [
        "### Задача 2.1"
      ]
    },
    {
      "cell_type": "markdown",
      "source": [
        "Считайте из ввода строку и преобразуйте ее в кортеж, состоящий из символов введенной строки.\n",
        "\n",
        "**Пример ввода:**\n",
        "```python\n",
        "'test'\n",
        "```\n",
        "**Пример вывода:**\n",
        "```python\n",
        "('t', 'e', 's', 't')\n",
        "```"
      ],
      "metadata": {
        "id": "7OAp49njcgJG"
      }
    },
    {
      "cell_type": "code",
      "metadata": {
        "id": "13sUrNX-LIlX",
        "colab": {
          "base_uri": "https://localhost:8080/"
        },
        "outputId": "96116c11-5a4a-4741-82be-241991109b9d"
      },
      "source": [
        "input_str = input('Input string: ')"
      ],
      "execution_count": null,
      "outputs": [
        {
          "name": "stdout",
          "output_type": "stream",
          "text": [
            "Input string: test\n"
          ]
        }
      ]
    },
    {
      "cell_type": "code",
      "source": [
        "tuple(input_str)"
      ],
      "metadata": {
        "id": "RFvbR6cDcrVE",
        "colab": {
          "base_uri": "https://localhost:8080/"
        },
        "outputId": "e1190b5b-2969-40dd-d8d0-12c1f6c56a77"
      },
      "execution_count": null,
      "outputs": [
        {
          "output_type": "execute_result",
          "data": {
            "text/plain": [
              "('t', 'e', 's', 't')"
            ]
          },
          "metadata": {},
          "execution_count": 96
        }
      ]
    },
    {
      "cell_type": "markdown",
      "metadata": {
        "id": "EAMK_9rYLIlX"
      },
      "source": [
        "### Задача 2.2"
      ]
    },
    {
      "cell_type": "markdown",
      "source": [
        "На вход подается список кортежей. Для каждого кортежа посчитайте сумму и среднее его элементов. Верните список, состоящий из кортежей `(сумма, среднее)`.\n",
        "\n",
        "**Пример ввода:**\n",
        "```python\n",
        "[(1, 2, 6), (2, 3, -8), (3, 4), (2, 2, 2, 2)]\n",
        "```\n",
        "**Пример вывода:**\n",
        "```python\n",
        "[(9, 3), (-3, -1), (7, 3.5), (8, 2)]\n",
        "```"
      ],
      "metadata": {
        "id": "jxfKuIlSdElx"
      }
    },
    {
      "cell_type": "code",
      "metadata": {
        "id": "5iFmMzuELIlX"
      },
      "source": [
        "list_of_tuples = [(1, 2, 6), (2, 3, -8), (3, 4), (2, 2, 2, 2)]"
      ],
      "execution_count": null,
      "outputs": []
    },
    {
      "cell_type": "code",
      "source": [
        "f_l = []\n",
        "from statistics import mean\n",
        "for i in range(len(list_of_tuples)):\n",
        "  f_l.append(tuple([sum(list_of_tuples[i]), mean(list_of_tuples[i])]))\n",
        "\n",
        "f_l"
      ],
      "metadata": {
        "id": "7CX0DBebd4zh",
        "colab": {
          "base_uri": "https://localhost:8080/"
        },
        "outputId": "d5317af7-ece3-41de-a9ba-f12d9d4a4b0f"
      },
      "execution_count": null,
      "outputs": [
        {
          "output_type": "execute_result",
          "data": {
            "text/plain": [
              "[(9, 3), (-3, -1), (7, 3.5), (8, 2)]"
            ]
          },
          "metadata": {},
          "execution_count": 105
        }
      ]
    },
    {
      "cell_type": "markdown",
      "metadata": {
        "id": "6Au2odgSLIlX"
      },
      "source": [
        "### Задача 2.3"
      ]
    },
    {
      "cell_type": "markdown",
      "source": [
        "На вход подается список из строк формата `\"имя число\"`. Верните кортеж кортежей `(\"имя\", число)`, отсортированный по убыванию числа. Для одинаковых чисел выполните сортировку лексикографически по имени.\n",
        "\n",
        "**Пример ввода:**\n",
        "```python\n",
        "[\"alice 10\", \"bob 20\", \"bertha 20\", \"chris 0\"]\n",
        "```\n",
        "**Пример вывода:**\n",
        "```python\n",
        "((\"bertha\", 20), (\"bob\", 20), (\"alice\", 10), (\"chris\", 0))\n",
        "```"
      ],
      "metadata": {
        "id": "6L2AWuBEeK5_"
      }
    },
    {
      "cell_type": "code",
      "source": [
        "# данную задачу необходимо доделать (сортировка)\n",
        "# необходимо отсортировать сначала по элементам с индексом 1\n",
        "# потом по элементам с индексом 0"
      ],
      "metadata": {
        "id": "Z8pDbRMaz8KB"
      },
      "execution_count": 153,
      "outputs": []
    },
    {
      "cell_type": "code",
      "source": [
        "l = input()"
      ],
      "metadata": {
        "id": "0tefXI6LAE_Q",
        "colab": {
          "base_uri": "https://localhost:8080/"
        },
        "outputId": "deb684c6-582f-459e-d565-2d68bc41c45b"
      },
      "execution_count": 95,
      "outputs": [
        {
          "name": "stdout",
          "output_type": "stream",
          "text": [
            "[\"alice 10\", \"bob 20\", \"bertha 20\", \"chris 0\"]\n"
          ]
        }
      ]
    },
    {
      "cell_type": "code",
      "source": [
        "l = [\"alice 10\", \"bob 20\", \"bertha 20\", \"chris 0\"]"
      ],
      "metadata": {
        "id": "m5C8KPnw_336"
      },
      "execution_count": 142,
      "outputs": []
    },
    {
      "cell_type": "code",
      "source": [
        "l_new = []\n",
        "for i in range(len(l)):\n",
        "  l_new.append(l[i].split(' '))\n",
        "\n",
        "l_new"
      ],
      "metadata": {
        "colab": {
          "base_uri": "https://localhost:8080/"
        },
        "id": "DVIT_R7c9iBp",
        "outputId": "ab53d838-4635-4c67-cba5-781c5fef86e6"
      },
      "execution_count": 143,
      "outputs": [
        {
          "output_type": "execute_result",
          "data": {
            "text/plain": [
              "[['alice', '10'], ['bob', '20'], ['bertha', '20'], ['chris', '0']]"
            ]
          },
          "metadata": {},
          "execution_count": 143
        }
      ]
    },
    {
      "cell_type": "code",
      "source": [
        "for i in range(len(l_new)):\n",
        "  l_new[i][1] = int(l_new[i][1])\n",
        "l_new"
      ],
      "metadata": {
        "colab": {
          "base_uri": "https://localhost:8080/"
        },
        "id": "KS-k4RJE9iE9",
        "outputId": "78e1cad6-8593-4b93-b549-f674e9fa9c50"
      },
      "execution_count": 144,
      "outputs": [
        {
          "output_type": "execute_result",
          "data": {
            "text/plain": [
              "[['alice', 10], ['bob', 20], ['bertha', 20], ['chris', 0]]"
            ]
          },
          "metadata": {},
          "execution_count": 144
        }
      ]
    },
    {
      "cell_type": "code",
      "source": [
        "print(l_new)"
      ],
      "metadata": {
        "colab": {
          "base_uri": "https://localhost:8080/"
        },
        "id": "UKhQMc_W1-f7",
        "outputId": "7c39ecb1-da3a-44b5-8059-c51afb0ac085"
      },
      "execution_count": 145,
      "outputs": [
        {
          "output_type": "stream",
          "name": "stdout",
          "text": [
            "[['alice', 10], ['bob', 20], ['bertha', 20], ['chris', 0]]\n"
          ]
        }
      ]
    },
    {
      "cell_type": "code",
      "source": [
        "for i in range(len(l_new)):\n",
        "  l_new[i] = tuple(l_new[i])\n",
        "l_new"
      ],
      "metadata": {
        "colab": {
          "base_uri": "https://localhost:8080/"
        },
        "id": "FM5_JD2IAmGd",
        "outputId": "889e736b-95b8-4138-c0ac-e889c45d208d"
      },
      "execution_count": 146,
      "outputs": [
        {
          "output_type": "execute_result",
          "data": {
            "text/plain": [
              "[('alice', 10), ('bob', 20), ('bertha', 20), ('chris', 0)]"
            ]
          },
          "metadata": {},
          "execution_count": 146
        }
      ]
    },
    {
      "cell_type": "code",
      "source": [
        "l_new = tuple(l_new)\n",
        "l_new"
      ],
      "metadata": {
        "colab": {
          "base_uri": "https://localhost:8080/"
        },
        "id": "GGB5aeApAmKc",
        "outputId": "fd811a47-1a90-4522-8ad2-a90a341c2c89"
      },
      "execution_count": 152,
      "outputs": [
        {
          "output_type": "execute_result",
          "data": {
            "text/plain": [
              "(('alice', 10), ('bertha', 20), ('bob', 20), ('chris', 0))"
            ]
          },
          "metadata": {},
          "execution_count": 152
        }
      ]
    },
    {
      "cell_type": "markdown",
      "metadata": {
        "id": "ATgzZd6WLIlX"
      },
      "source": [
        "### Задача 2.4"
      ]
    },
    {
      "cell_type": "markdown",
      "source": [
        "На вход подается список кортежей. У всех кортежей одинаковое количество элементов, элементами всех кортежей являются числа. Верните кортеж с поэлементными суммами.\n",
        "\n",
        "**Пример ввода:**\n",
        "```python\n",
        "[(1, 5), (1, 7), (2, 8)]\n",
        "```\n",
        "**Пример вывода:**\n",
        "```python\n",
        "(4, 20)\n",
        "```"
      ],
      "metadata": {
        "id": "O1HK18-4fk1i"
      }
    },
    {
      "cell_type": "code",
      "source": [
        "l = [(1, 5), (1, 7), (2, 8)]"
      ],
      "metadata": {
        "id": "bLQ9hxxDBnnF"
      },
      "execution_count": null,
      "outputs": []
    },
    {
      "cell_type": "code",
      "metadata": {
        "id": "-Tipld8kLIlX",
        "colab": {
          "base_uri": "https://localhost:8080/"
        },
        "outputId": "f7a385a2-970f-4afa-bb8c-7113e2aecfc8"
      },
      "source": [
        "sum_1 = 0\n",
        "sum_2 = 0\n",
        "\n",
        "for i in range(len(l)):\n",
        "  sum_1 += l[i][0]\n",
        "  sum_2 += l[i][1]\n",
        "\n",
        "tuple([sum_1, sum_2])"
      ],
      "execution_count": null,
      "outputs": [
        {
          "output_type": "execute_result",
          "data": {
            "text/plain": [
              "(4, 20)"
            ]
          },
          "metadata": {},
          "execution_count": 145
        }
      ]
    },
    {
      "cell_type": "markdown",
      "metadata": {
        "id": "enlKIJDkLIlX"
      },
      "source": [
        "## <font color=\"green\">3. Dictionary</font>"
      ]
    },
    {
      "cell_type": "markdown",
      "source": [
        "[Ссылка на документацию](https://docs.python.org/3/tutorial/datastructures.html#dictionaries)"
      ],
      "metadata": {
        "id": "uyJ9H7y_hoNI"
      }
    },
    {
      "cell_type": "markdown",
      "metadata": {
        "id": "coPqGYSBLIlX"
      },
      "source": [
        "### Задача 3.1\n",
        "\n"
      ]
    },
    {
      "cell_type": "markdown",
      "source": [
        "На вход получаете список словарей. Напишите программу, объединяющую словари из списка в один. Если ключи совпадают, то оставляйте **более позднее** значение.\n",
        "\n",
        "**Пример ввода:**\n",
        "```python\n",
        "[{'key1': 10, 'key2': 20}, {'key3': 30, 'key4': 40}, {'key1': 50, 'key5': 60}]\n",
        "```\n",
        "**Пример вывода:**\n",
        "```python\n",
        "{'key1': 50, 'key2': 20, 'key3': 30, 'key4': 40, 'key5': 60}\n",
        "```"
      ],
      "metadata": {
        "id": "ndKtQ0r0iImH"
      }
    },
    {
      "cell_type": "code",
      "source": [
        "list_of_dicts = [{'key1': 10, 'key2': 20}, {'key3': 30, 'key4': 40}, {'key1': 50, 'key5': 60}]"
      ],
      "metadata": {
        "id": "TjdC9ogtiaAg"
      },
      "execution_count": 158,
      "outputs": []
    },
    {
      "cell_type": "code",
      "metadata": {
        "id": "it_ThaYBLIlY",
        "colab": {
          "base_uri": "https://localhost:8080/"
        },
        "outputId": "d771f426-aa7a-49bb-c0da-d494de2e0ad3"
      },
      "source": [
        "result = {}\n",
        "for d in list_of_dicts:\n",
        "  result.update(d)\n",
        "\n",
        "result"
      ],
      "execution_count": 159,
      "outputs": [
        {
          "output_type": "execute_result",
          "data": {
            "text/plain": [
              "{'key1': 50, 'key2': 20, 'key3': 30, 'key4': 40, 'key5': 60}"
            ]
          },
          "metadata": {},
          "execution_count": 159
        }
      ]
    },
    {
      "cell_type": "markdown",
      "metadata": {
        "id": "4K-2EegRLIlY"
      },
      "source": [
        "### Задача 3.2"
      ]
    },
    {
      "cell_type": "markdown",
      "source": [
        "На вход получаете список словарей. Напишите программу, объединяющую словари из списка в один. Если ключи совпадают, то оставляйте **более раннее** значение.\n",
        "\n",
        "**Пример ввода:**\n",
        "```python\n",
        "[{'key1': 10, 'key2': 20}, {'key3': 30, 'key4': 40}, {'key1': 50, 'key5': 60}]\n",
        "```\n",
        "**Пример вывода:**\n",
        "```python\n",
        "{'key1': 10, 'key2': 20, 'key3': 30, 'key4': 40, 'key5': 60}\n",
        "```"
      ],
      "metadata": {
        "id": "w0vnJmokik7O"
      }
    },
    {
      "cell_type": "code",
      "source": [
        "list_of_dicts = [{'key1': 10, 'key2': 20}, {'key3': 30, 'key4': 40}, {'key1': 50, 'key5': 60}]"
      ],
      "metadata": {
        "id": "_6cGXbmuit__"
      },
      "execution_count": 161,
      "outputs": []
    },
    {
      "cell_type": "code",
      "metadata": {
        "id": "euYkiGj8LIlY",
        "colab": {
          "base_uri": "https://localhost:8080/"
        },
        "outputId": "a4ae534c-784b-4c75-95ac-c64205793900"
      },
      "source": [
        "result = {}\n",
        "for d in list_of_dicts[::-1]:  # обновляю словарь в обратном порядке\n",
        "  result.update(d)\n",
        "\n",
        "dict(sorted(result.items()))  # добавляю сортировку"
      ],
      "execution_count": 167,
      "outputs": [
        {
          "output_type": "execute_result",
          "data": {
            "text/plain": [
              "{'key1': 10, 'key2': 20, 'key3': 30, 'key4': 40, 'key5': 60}"
            ]
          },
          "metadata": {},
          "execution_count": 167
        }
      ]
    },
    {
      "cell_type": "markdown",
      "metadata": {
        "id": "t2pv7UVeLIlY"
      },
      "source": [
        "### Задача 3.3"
      ]
    },
    {
      "cell_type": "markdown",
      "source": [
        "Создайте на основе строки `cleared_python_text` из Задачи 1.1 словарь, ключами которого будут символы, которые встречаются в этой строке, а значениями - сколько раз в строке символ встречается.\n",
        "\n",
        "**Замечание:** в этой задаче запрещено использовать модуль `collections` и `Counter`!"
      ],
      "metadata": {
        "id": "dIhiZLmhjBML"
      }
    },
    {
      "cell_type": "code",
      "metadata": {
        "id": "1tuOlPH7LIlY",
        "colab": {
          "base_uri": "https://localhost:8080/",
          "height": 87
        },
        "outputId": "d16481c6-1f10-4ed0-9da7-627064356727"
      },
      "source": [
        "cleared_python_text "
      ],
      "execution_count": 168,
      "outputs": [
        {
          "output_type": "execute_result",
          "data": {
            "text/plain": [
              "' python is an interpreted high level general purpose programming language  python s design  philosophy emphasizes code readability with its notable use of significant indentation  its  language constructs as well as its object oriented approach aim to help programmers write clear   logical code for small and large scale projects  python is dynamically typed and  garbage collected  it supports multiple programming paradigms  including structured  particularly   procedural   object oriented and functional programming  python is often described as a  batteries  included  language due to its comprehensive standard library  guido van rossum began working on  python in the late 1980s  as a successor to the abc programming language  and first released it in  1991 as python 0 9 0  python 2 0 was released in 2000 and introduced new features  such as list  comprehensions and a garbage collection system using reference counting  python 3 0 was released in  2008 and was a major revision of the language that is not completely backward compatible and much  python 2 code does not run unmodified on python 3  python 2 was discontinued with version 2 7 18 in  2020  python consistently ranks as one of the most popular programming  languages  '"
            ],
            "application/vnd.google.colaboratory.intrinsic+json": {
              "type": "string"
            }
          },
          "metadata": {},
          "execution_count": 168
        }
      ]
    },
    {
      "cell_type": "code",
      "source": [
        "# Чтобы 100 раз не елозить по ноутбуку задам эту строку заново"
      ],
      "metadata": {
        "id": "YeMspdm1CBz3"
      },
      "execution_count": 173,
      "outputs": []
    },
    {
      "cell_type": "code",
      "source": [
        "c_p_t = ' python is an interpreted high level general purpose programming language  python s design  philosophy emphasizes code readability with its notable use of significant indentation  its  language constructs as well as its object oriented approach aim to help programmers write clear   logical code for small and large scale projects  python is dynamically typed and  garbage collected  it supports multiple programming paradigms  including structured  particularly   procedural   object oriented and functional programming  python is often described as a  batteries  included  language due to its comprehensive standard library  guido van rossum began working on  python in the late 1980s  as a successor to the abc programming language  and first released it in  1991 as python 0 9 0  python 2 0 was released in 2000 and introduced new features  such as list  comprehensions and a garbage collection system using reference counting  python 3 0 was released in  2008 and was a major revision of the language that is not completely backward compatible and much  python 2 code does not run unmodified on python 3  python 2 was discontinued with version 2 7 18 in  2020  python consistently ranks as one of the most popular programming  languages  '"
      ],
      "metadata": {
        "id": "ukZ1mCwIB0x7"
      },
      "execution_count": 174,
      "outputs": []
    },
    {
      "cell_type": "code",
      "source": [
        "c_p_t "
      ],
      "metadata": {
        "colab": {
          "base_uri": "https://localhost:8080/",
          "height": 87
        },
        "id": "uE2P3nfWB01R",
        "outputId": "b8a50ee6-6a37-4d1f-9a01-be9f1f7dbcf7"
      },
      "execution_count": 175,
      "outputs": [
        {
          "output_type": "execute_result",
          "data": {
            "text/plain": [
              "' python is an interpreted high level general purpose programming language  python s design  philosophy emphasizes code readability with its notable use of significant indentation  its  language constructs as well as its object oriented approach aim to help programmers write clear   logical code for small and large scale projects  python is dynamically typed and  garbage collected  it supports multiple programming paradigms  including structured  particularly   procedural   object oriented and functional programming  python is often described as a  batteries  included  language due to its comprehensive standard library  guido van rossum began working on  python in the late 1980s  as a successor to the abc programming language  and first released it in  1991 as python 0 9 0  python 2 0 was released in 2000 and introduced new features  such as list  comprehensions and a garbage collection system using reference counting  python 3 0 was released in  2008 and was a major revision of the language that is not completely backward compatible and much  python 2 code does not run unmodified on python 3  python 2 was discontinued with version 2 7 18 in  2020  python consistently ranks as one of the most popular programming  languages  '"
            ],
            "application/vnd.google.colaboratory.intrinsic+json": {
              "type": "string"
            }
          },
          "metadata": {},
          "execution_count": 175
        }
      ]
    },
    {
      "cell_type": "code",
      "source": [
        "# В голову приходит идея получить список ключей, с помощью множеств\n",
        "# Далее получить список количества повторов для каждого элемента множества\n",
        "# и уже после создать словарь на основе двух списков"
      ],
      "metadata": {
        "id": "tTjKMFUOB04h"
      },
      "execution_count": 177,
      "outputs": []
    },
    {
      "cell_type": "code",
      "source": [
        "# получили ключи\n",
        "keys_s_p_t = set(c_p_t)\n",
        "keys_s_p_t = list(keys_s_p_t)\n",
        "keys_s_p_t"
      ],
      "metadata": {
        "colab": {
          "base_uri": "https://localhost:8080/"
        },
        "id": "qk-ewuJeC6lZ",
        "outputId": "87985294-b267-4bac-fc7a-35e70c4074e3"
      },
      "execution_count": 187,
      "outputs": [
        {
          "output_type": "execute_result",
          "data": {
            "text/plain": [
              "['3',\n",
              " '0',\n",
              " 'z',\n",
              " 'u',\n",
              " 'b',\n",
              " '9',\n",
              " 'm',\n",
              " 'i',\n",
              " 's',\n",
              " '7',\n",
              " 'd',\n",
              " '1',\n",
              " 'c',\n",
              " '8',\n",
              " 't',\n",
              " 'v',\n",
              " 'y',\n",
              " 'a',\n",
              " 'l',\n",
              " 'r',\n",
              " 'n',\n",
              " ' ',\n",
              " 'h',\n",
              " 'o',\n",
              " 'j',\n",
              " 'e',\n",
              " '2',\n",
              " 'g',\n",
              " 'p',\n",
              " 'w',\n",
              " 'k',\n",
              " 'f']"
            ]
          },
          "metadata": {},
          "execution_count": 187
        }
      ]
    },
    {
      "cell_type": "code",
      "source": [
        "values = []\n",
        "for key in range(len(keys_s_p_t)):\n",
        "  values.append(c_p_t.count(keys_s_p_t[key]))\n",
        "\n",
        "values"
      ],
      "metadata": {
        "colab": {
          "base_uri": "https://localhost:8080/"
        },
        "id": "ID7yZI7-C6oj",
        "outputId": "2d4fe169-4ee5-4740-e522-2fb0b057db7f"
      },
      "execution_count": 192,
      "outputs": [
        {
          "output_type": "execute_result",
          "data": {
            "text/plain": [
              "[2,\n",
              " 12,\n",
              " 1,\n",
              " 32,\n",
              " 13,\n",
              " 4,\n",
              " 28,\n",
              " 69,\n",
              " 68,\n",
              " 1,\n",
              " 43,\n",
              " 4,\n",
              " 40,\n",
              " 3,\n",
              " 72,\n",
              " 5,\n",
              " 22,\n",
              " 88,\n",
              " 47,\n",
              " 62,\n",
              " 84,\n",
              " 228,\n",
              " 30,\n",
              " 73,\n",
              " 4,\n",
              " 94,\n",
              " 8,\n",
              " 40,\n",
              " 41,\n",
              " 11,\n",
              " 3,\n",
              " 11]"
            ]
          },
          "metadata": {},
          "execution_count": 192
        }
      ]
    },
    {
      "cell_type": "code",
      "source": [
        "D = dict(zip(keys_s_p_t, values))\n",
        "D"
      ],
      "metadata": {
        "colab": {
          "base_uri": "https://localhost:8080/"
        },
        "id": "RItz0owDC6rt",
        "outputId": "f85ed4d4-0bfe-4473-e74f-80c1b25c2401"
      },
      "execution_count": 200,
      "outputs": [
        {
          "output_type": "execute_result",
          "data": {
            "text/plain": [
              "{'3': 2,\n",
              " '0': 12,\n",
              " 'z': 1,\n",
              " 'u': 32,\n",
              " 'b': 13,\n",
              " '9': 4,\n",
              " 'm': 28,\n",
              " 'i': 69,\n",
              " 's': 68,\n",
              " '7': 1,\n",
              " 'd': 43,\n",
              " '1': 4,\n",
              " 'c': 40,\n",
              " '8': 3,\n",
              " 't': 72,\n",
              " 'v': 5,\n",
              " 'y': 22,\n",
              " 'a': 88,\n",
              " 'l': 47,\n",
              " 'r': 62,\n",
              " 'n': 84,\n",
              " ' ': 228,\n",
              " 'h': 30,\n",
              " 'o': 73,\n",
              " 'j': 4,\n",
              " 'e': 94,\n",
              " '2': 8,\n",
              " 'g': 40,\n",
              " 'p': 41,\n",
              " 'w': 11,\n",
              " 'k': 3,\n",
              " 'f': 11}"
            ]
          },
          "metadata": {},
          "execution_count": 200
        }
      ]
    },
    {
      "cell_type": "markdown",
      "metadata": {
        "id": "spEaORSrLIlZ"
      },
      "source": [
        "### Задача 3.4"
      ]
    },
    {
      "cell_type": "markdown",
      "source": [
        "Создате на основе `python_words` из Задачи 1.1 словарь `{\"слово\": число использований слова}`. Напечатайте самое часто используемое слово и сколько раз оно используется.\n",
        "\n",
        "**Замечание:** в этой задаче запрещено использовать модуль `collections` и `Counter`!"
      ],
      "metadata": {
        "id": "ldwHiCVCjikh"
      }
    },
    {
      "cell_type": "code",
      "source": [
        "# ахаха я как прочитал задание, аж хрюкнул\n",
        "# ставлю три сотни баксов, что в статье Гвидо про пайтон,\n",
        "# самым частым словом будет: \"Python\" :D"
      ],
      "metadata": {
        "id": "wMkp6bLQG0aj"
      },
      "execution_count": 205,
      "outputs": []
    },
    {
      "cell_type": "code",
      "metadata": {
        "id": "V2LW4iaHLIlZ"
      },
      "source": [
        "# чтобы не бегать по ноутбуку опять же, потому что делаю в разные дни\n",
        "p_w = ['python',\n",
        " 'is',\n",
        " 'an',\n",
        " 'interpreted',\n",
        " 'high',\n",
        " 'level',\n",
        " 'general',\n",
        " 'purpose',\n",
        " 'programming',\n",
        " 'language',\n",
        " 'python',\n",
        " 's',\n",
        " 'design',\n",
        " 'philosophy',\n",
        " 'emphasizes',\n",
        " 'code',\n",
        " 'readability',\n",
        " 'with',\n",
        " 'its',\n",
        " 'notable',\n",
        " 'use',\n",
        " 'of',\n",
        " 'significant',\n",
        " 'indentation',\n",
        " 'its',\n",
        " 'language',\n",
        " 'constructs',\n",
        " 'as',\n",
        " 'well',\n",
        " 'as',\n",
        " 'its',\n",
        " 'object',\n",
        " 'oriented',\n",
        " 'approach',\n",
        " 'aim',\n",
        " 'to',\n",
        " 'help',\n",
        " 'programmers',\n",
        " 'write',\n",
        " 'clear',\n",
        " 'logical',\n",
        " 'code',\n",
        " 'for',\n",
        " 'small',\n",
        " 'and',\n",
        " 'large',\n",
        " 'scale',\n",
        " 'projects',\n",
        " 'python',\n",
        " 'is',\n",
        " 'dynamically',\n",
        " 'typed',\n",
        " 'and',\n",
        " 'garbage',\n",
        " 'collected',\n",
        " 'it',\n",
        " 'supports',\n",
        " 'multiple',\n",
        " 'programming',\n",
        " 'paradigms',\n",
        " 'including',\n",
        " 'structured',\n",
        " 'particularly',\n",
        " 'procedural',\n",
        " 'object',\n",
        " 'oriented',\n",
        " 'and',\n",
        " 'functional',\n",
        " 'programming',\n",
        " 'python',\n",
        " 'is',\n",
        " 'often',\n",
        " 'described',\n",
        " 'as',\n",
        " 'a',\n",
        " 'batteries',\n",
        " 'included',\n",
        " 'language',\n",
        " 'due',\n",
        " 'to',\n",
        " 'its',\n",
        " 'comprehensive',\n",
        " 'standard',\n",
        " 'library',\n",
        " 'guido',\n",
        " 'van',\n",
        " 'rossum',\n",
        " 'began',\n",
        " 'working',\n",
        " 'on',\n",
        " 'python',\n",
        " 'in',\n",
        " 'the',\n",
        " 'late',\n",
        " '1980s',\n",
        " 'as',\n",
        " 'a',\n",
        " 'successor',\n",
        " 'to',\n",
        " 'the',\n",
        " 'abc',\n",
        " 'programming',\n",
        " 'language',\n",
        " 'and',\n",
        " 'first',\n",
        " 'released',\n",
        " 'it',\n",
        " 'in',\n",
        " '1991',\n",
        " 'as',\n",
        " 'python',\n",
        " '0',\n",
        " '9',\n",
        " '0',\n",
        " 'python',\n",
        " '2',\n",
        " '0',\n",
        " 'was',\n",
        " 'released',\n",
        " 'in',\n",
        " '2000',\n",
        " 'and',\n",
        " 'introduced',\n",
        " 'new',\n",
        " 'features',\n",
        " 'such',\n",
        " 'as',\n",
        " 'list',\n",
        " 'comprehensions',\n",
        " 'and',\n",
        " 'a',\n",
        " 'garbage',\n",
        " 'collection',\n",
        " 'system',\n",
        " 'using',\n",
        " 'reference',\n",
        " 'counting',\n",
        " 'python',\n",
        " '3',\n",
        " '0',\n",
        " 'was',\n",
        " 'released',\n",
        " 'in',\n",
        " '2008',\n",
        " 'and',\n",
        " 'was',\n",
        " 'a',\n",
        " 'major',\n",
        " 'revision',\n",
        " 'of',\n",
        " 'the',\n",
        " 'language',\n",
        " 'that',\n",
        " 'is',\n",
        " 'not',\n",
        " 'completely',\n",
        " 'backward',\n",
        " 'compatible',\n",
        " 'and',\n",
        " 'much',\n",
        " 'python',\n",
        " '2',\n",
        " 'code',\n",
        " 'does',\n",
        " 'not',\n",
        " 'run',\n",
        " 'unmodified',\n",
        " 'on',\n",
        " 'python',\n",
        " '3',\n",
        " 'python',\n",
        " '2',\n",
        " 'was',\n",
        " 'discontinued',\n",
        " 'with',\n",
        " 'version',\n",
        " '2',\n",
        " '7',\n",
        " '18',\n",
        " 'in',\n",
        " '2020',\n",
        " 'python',\n",
        " 'consistently',\n",
        " 'ranks',\n",
        " 'as',\n",
        " 'one',\n",
        " 'of',\n",
        " 'the',\n",
        " 'most',\n",
        " 'popular',\n",
        " 'programming',\n",
        " 'languages']"
      ],
      "execution_count": 203,
      "outputs": []
    },
    {
      "cell_type": "code",
      "source": [
        "#Опять же это будет модернизация предыдущей задачи\n",
        "# получим список ключей\n",
        "p_w_keys = list(set(p_w))"
      ],
      "metadata": {
        "id": "Wzg6W7P3GX8f"
      },
      "execution_count": 216,
      "outputs": []
    },
    {
      "cell_type": "code",
      "source": [
        "# получаю список значений\n",
        "p_w_values = []\n",
        "for key in range(len(p_w_keys)):\n",
        "  p_w_values.append(p_w.count(p_w_keys[key]))"
      ],
      "metadata": {
        "id": "9nAhIWkUGX_0"
      },
      "execution_count": 215,
      "outputs": []
    },
    {
      "cell_type": "code",
      "source": [
        "# создаю словарь из двух списков\n",
        "D_2 = dict(zip(p_w_keys, p_w_values))"
      ],
      "metadata": {
        "id": "cb4M6cz_GYCh"
      },
      "execution_count": 217,
      "outputs": []
    },
    {
      "cell_type": "code",
      "source": [
        "# получаю слово (в нашем случае ключ) словаря с максимальным количеством повторений\n",
        "max(D_2, key = D_2.get)"
      ],
      "metadata": {
        "colab": {
          "base_uri": "https://localhost:8080/",
          "height": 35
        },
        "id": "M5UZVwoZGYFO",
        "outputId": "df69b325-56e3-4692-8a2c-26f1e016d912"
      },
      "execution_count": 224,
      "outputs": [
        {
          "output_type": "execute_result",
          "data": {
            "text/plain": [
              "'python'"
            ],
            "application/vnd.google.colaboratory.intrinsic+json": {
              "type": "string"
            }
          },
          "metadata": {},
          "execution_count": 224
        }
      ]
    },
    {
      "cell_type": "code",
      "source": [
        "# получаю количество повторений данного слова\n",
        "D_2[max(D_2, key = D_2.get)]"
      ],
      "metadata": {
        "colab": {
          "base_uri": "https://localhost:8080/"
        },
        "id": "jgjyurncGYIJ",
        "outputId": "787b096e-c829-4f70-b567-f6c4b277296c"
      },
      "execution_count": 225,
      "outputs": [
        {
          "output_type": "execute_result",
          "data": {
            "text/plain": [
              "12"
            ]
          },
          "metadata": {},
          "execution_count": 225
        }
      ]
    },
    {
      "cell_type": "markdown",
      "metadata": {
        "id": "e7LUMPmmLIlZ"
      },
      "source": [
        "## <font color=\"green\">4. Set</font>"
      ]
    },
    {
      "cell_type": "markdown",
      "source": [
        "[Ссылка на документацию](https://docs.python.org/3/tutorial/datastructures.html#sets)"
      ],
      "metadata": {
        "id": "EZ_R4rKikDSZ"
      }
    },
    {
      "cell_type": "markdown",
      "metadata": {
        "id": "3a4LB09LLIlZ"
      },
      "source": [
        "### Задача 4.1\n"
      ]
    },
    {
      "cell_type": "markdown",
      "source": [
        "На вход даются два списка. Верните множество общих элементов (встречаются в обоих списках).\n",
        "\n",
        "**Пример ввода:**\n",
        "```python\n",
        "[1, 1, 2, 3, 5, 8, 13, 21, 34, 55, 89]\n",
        "[1, 2, 3, 4, 5, 6, 7, 8, 9, 10, 11, 12, 13]\n",
        "```\n",
        "**Пример вывода:**\n",
        "```python\n",
        "{1, 2, 3, 5, 8, 13}\n",
        "```"
      ],
      "metadata": {
        "id": "wMsU0ma_kKmh"
      }
    },
    {
      "cell_type": "code",
      "source": [
        "a = [1, 1, 2, 3, 5, 8, 13, 21, 34, 55, 89]\n",
        "b = [1, 2, 3, 4, 5, 6, 7, 8, 9, 10, 11, 12, 13]"
      ],
      "metadata": {
        "id": "MKIYeIhdxll8"
      },
      "execution_count": null,
      "outputs": []
    },
    {
      "cell_type": "code",
      "metadata": {
        "id": "isKHuX_Kv3IW"
      },
      "source": [
        "# ваш код в этой ячейке"
      ],
      "execution_count": null,
      "outputs": []
    },
    {
      "cell_type": "markdown",
      "metadata": {
        "id": "4cJvpteELIlZ"
      },
      "source": [
        "### Задача 4.2\n",
        "\n"
      ]
    },
    {
      "cell_type": "markdown",
      "source": [
        "На вход получаете список чисел. Необходимо проверить являются ли все элементы уникальными (что все элементы списка встречаются лишь один раз).\n",
        "\n",
        "**Пример ввода:**\n",
        "```python\n",
        "[1, 1, 2, 3, 5, 8, 13, 21, 34, 55, 89]\n",
        "```\n",
        "**Пример вывода:**\n",
        "```python\n",
        "False\n",
        "```"
      ],
      "metadata": {
        "id": "EpFJe-lSkz5G"
      }
    },
    {
      "cell_type": "code",
      "source": [
        "a = [1, 1, 2, 3, 5, 8, 13, 21, 34, 55, 89]"
      ],
      "metadata": {
        "id": "1TgSK0vmxpp8"
      },
      "execution_count": null,
      "outputs": []
    },
    {
      "cell_type": "code",
      "metadata": {
        "id": "xyENsJSHLIlZ"
      },
      "source": [
        "# ваш код в этой ячейке"
      ],
      "execution_count": null,
      "outputs": []
    },
    {
      "cell_type": "markdown",
      "metadata": {
        "id": "wyY-CaGnLIlZ"
      },
      "source": [
        "### Задача 4.3"
      ]
    },
    {
      "cell_type": "markdown",
      "source": [
        "На вход получаете два списка чисел. Выведите все числа, которые встречаются лишь в одном из списков.\n",
        "\n",
        "**Пример ввода:**\n",
        "```python\n",
        "[1, 1, 2, 3, 5, 8, 13, 21, 34, 55, 89]\n",
        "[1, 2, 3, 4, 5, 6, 7, 8, 9, 10, 11, 12, 13]\n",
        "```\n",
        "**Пример вывода:**\n",
        "```python\n",
        "[4, 6, 7, 9, 10, 11, 12, 21, 34, 55, 89]\n",
        "```"
      ],
      "metadata": {
        "id": "pVEhFvCpvCek"
      }
    },
    {
      "cell_type": "code",
      "source": [
        "a = [1, 1, 2, 3, 5, 8, 13, 21, 34, 55, 89]\n",
        "b = [1, 2, 3, 4, 5, 6, 7, 8, 9, 10, 11, 12, 13]"
      ],
      "metadata": {
        "id": "IhvJexhMxsFK"
      },
      "execution_count": null,
      "outputs": []
    },
    {
      "cell_type": "code",
      "metadata": {
        "id": "IaSk5w1MLIlZ"
      },
      "source": [
        "# ваш код в этой ячейке"
      ],
      "execution_count": null,
      "outputs": []
    },
    {
      "cell_type": "markdown",
      "metadata": {
        "id": "cztT97avLIla"
      },
      "source": [
        "### Задача 4.4"
      ]
    },
    {
      "cell_type": "markdown",
      "source": [
        "На вход получаете множество. Выведите минимальное и максимальное значение полученного множества.\n",
        "\n",
        "**Пример ввода:**\n",
        "```python\n",
        "{1, 2, 3, 5, 8, 13, 21, 34, 55, 89}\n",
        "```\n",
        "**Пример вывода:**\n",
        "```python\n",
        "1 89\n",
        "```"
      ],
      "metadata": {
        "id": "sw3DyikqxMBf"
      }
    },
    {
      "cell_type": "code",
      "source": [
        "set4_4 = {i ** 2 // 5 for i in range(100)}"
      ],
      "metadata": {
        "id": "sBBDSv8sxytZ"
      },
      "execution_count": null,
      "outputs": []
    },
    {
      "cell_type": "code",
      "metadata": {
        "id": "6xt0IguPLIla"
      },
      "source": [
        "# ваш код в этой ячейке"
      ],
      "execution_count": null,
      "outputs": []
    },
    {
      "cell_type": "markdown",
      "metadata": {
        "id": "NHBp_qmULIla"
      },
      "source": [
        "## <font color=\"green\">5. Counter</font>"
      ]
    },
    {
      "cell_type": "markdown",
      "source": [
        "[Ссылка на документацию](https://realpython.com/python-counter/)"
      ],
      "metadata": {
        "id": "rPzmoX3HyNws"
      }
    },
    {
      "cell_type": "code",
      "metadata": {
        "id": "gxjWwJnTy5aA"
      },
      "source": [
        "from collections import Counter"
      ],
      "execution_count": null,
      "outputs": []
    },
    {
      "cell_type": "markdown",
      "metadata": {
        "id": "KiHEJRTPLIla"
      },
      "source": [
        "### Задача 5.1\n",
        "\n",
        "Решите Задачу 3.3 с использованием `Counter`.\n"
      ]
    },
    {
      "cell_type": "code",
      "metadata": {
        "id": "TgDB2q_HLIla"
      },
      "source": [
        "# ваш код в этой ячейке"
      ],
      "execution_count": null,
      "outputs": []
    },
    {
      "cell_type": "markdown",
      "metadata": {
        "id": "ypzIcg0bLIla"
      },
      "source": [
        "### Задача 5.2\n",
        "\n",
        "Решите Задачу 3.4 с использованием `Counter`."
      ]
    },
    {
      "cell_type": "code",
      "metadata": {
        "id": "SCFbJl4ILIla"
      },
      "source": [
        "# ваш код в этой ячейке"
      ],
      "execution_count": null,
      "outputs": []
    }
  ]
}